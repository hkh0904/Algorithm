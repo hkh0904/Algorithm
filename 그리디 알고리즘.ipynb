{
 "cells": [
  {
   "cell_type": "code",
   "execution_count": 4,
   "metadata": {},
   "outputs": [
    {
     "name": "stdout",
     "output_type": "stream",
     "text": [
      "0\n"
     ]
    }
   ],
   "source": [
    "# 11047 동전0\n",
    "N, K = map(int, input().split())\n",
    "\n",
    "coin = [int(input()) for _ in range(N)]\n",
    "mincoin = 0\n",
    "coin_idx = -1\n",
    "\n",
    "while K > 0:\n",
    "    mincoin += K // coin[coin_idx]\n",
    "    K = K % coin[coin_idx]\n",
    "    coin_idx -= 1\n",
    "print(mincoin)"
   ]
  },
  {
   "cell_type": "code",
   "execution_count": null,
   "metadata": {},
   "outputs": [],
   "source": [
    "# 1931 회의실 배정\n",
    "\n",
    "T = int(input())\n",
    "meeting = [list(map(int, input().split())) for _ in range(T)]\n",
    "#희의 시작시간을 기준으로 정렬한뒤 끝나는 시간을 기준으로 다시 정렬해줌\n",
    "#시작과 끝시간 간격이 짧은 회의를 선택하려고\n",
    "meeting.sort(key= lambda x: (x[1], x[0]))\n",
    "\n",
    "cnt = 1\n",
    "#마치는 시간이 가장빠르고 시작시간도 빠른 값\n",
    "end_time = meeting[0][1]\n",
    "\n",
    "for i in range(1,len(meeting)):\n",
    "    #시작시간이 전회의 끝나는 시간 이후라면\n",
    "    if meeting[i][0] >= end_time:\n",
    "        cnt += 1\n",
    "        #회의 종료시간 갱신\n",
    "        end_time = meeting[i][1]\n",
    "        \n",
    "print(cnt)"
   ]
  },
  {
   "cell_type": "code",
   "execution_count": 2,
   "metadata": {},
   "outputs": [
    {
     "name": "stdout",
     "output_type": "stream",
     "text": [
      "32\n"
     ]
    }
   ],
   "source": [
    "# 11399 ATM\n",
    "T = int(input())\n",
    "\n",
    "time = list(map(int, input().split()))\n",
    "time.sort()\n",
    "cl_time = [0] * len(time)\n",
    "\n",
    "for i in range(len(time)):\n",
    "    cl_time[i] = sum(time[:i+1])\n",
    "\n",
    "print(sum(cl_time))"
   ]
  },
  {
   "cell_type": "code",
   "execution_count": 6,
   "metadata": {},
   "outputs": [
    {
     "name": "stdout",
     "output_type": "stream",
     "text": [
      "-35\n"
     ]
    }
   ],
   "source": [
    "# 1541 잃어버린 괄호\n",
    "import re\n",
    "# 문자열(숫자) 리스트의 합을 구하는 함수\n",
    "def str_sum(a):\n",
    "    rlt = 0\n",
    "    for i in range(len(a)):\n",
    "        rlt += int(a[i])\n",
    "    return rlt\n",
    "\n",
    "T = str(input())    # 계산식 입력\n",
    "rlt = []\n",
    "idx = 0\n",
    "for i in range(len(T)):\n",
    "    # \"-\"를 만날때\n",
    "    if T[i] == \"-\":\n",
    "        # 인덱스부터 \"-\"전까지 계산식 속 숫자만 리스트로 만들고 더하여 결과 리스트에 추가\n",
    "        tmp = re.findall(r'\\d+', T[idx:i])\n",
    "        rlt.append(str_sum(tmp))\n",
    "        idx = i + 1 # 찾는 범위 재설정\n",
    "    elif i == len(T)-1:\n",
    "        # 더이상 \"-\"가 없다면 마지막 \"-\"이후부터 끝까지의 식을 위처럼 실행\n",
    "        tmp = re.findall(r'\\d+', T[idx:])\n",
    "        rlt.append(str_sum(tmp))\n",
    "\n",
    "first = rlt[0]      # 결과 리스트의 첫번째값은 양의값\n",
    "sub = sum(rlt[1:])  # 나머지값을 모두 더한값을 빼줌\n",
    "print(first - sub)"
   ]
  },
  {
   "cell_type": "code",
   "execution_count": 9,
   "metadata": {},
   "outputs": [
    {
     "name": "stdout",
     "output_type": "stream",
     "text": [
      "18\n"
     ]
    }
   ],
   "source": [
    "# 13305 주유소\n",
    "\n",
    "def Buy_Gas(arr, idx):\n",
    "    for i in range(idx, len(arr)):\n",
    "        if arr[idx] != min(arr[idx:]):\n",
    "            return False\n",
    "    return True\n",
    "\n",
    "citys = int(input())\n",
    "d = list(map(int, input().split()))\n",
    "pay = list(map(int, input().split()))\n",
    "pay.pop()\n",
    "rlt = 0\n",
    "\n",
    "for i in range(len(d)):\n",
    "    if Buy_Gas(pay, i):\n",
    "        rlt += sum(d) * pay[i]\n",
    "        break\n",
    "    else:\n",
    "        rlt += d[0] * pay[i]\n",
    "        d.pop(0)\n",
    "print(rlt)"
   ]
  },
  {
   "cell_type": "code",
   "execution_count": 8,
   "metadata": {},
   "outputs": [
    {
     "name": "stdout",
     "output_type": "stream",
     "text": [
      "[2, 3, 4]\n"
     ]
    }
   ],
   "source": [
    "a = [2,3,4,5]\n",
    "a.pop()\n",
    "print(a)"
   ]
  },
  {
   "cell_type": "markdown",
   "metadata": {},
   "source": []
  }
 ],
 "metadata": {
  "kernelspec": {
   "display_name": "Python 3",
   "language": "python",
   "name": "python3"
  },
  "language_info": {
   "codemirror_mode": {
    "name": "ipython",
    "version": 3
   },
   "file_extension": ".py",
   "mimetype": "text/x-python",
   "name": "python",
   "nbconvert_exporter": "python",
   "pygments_lexer": "ipython3",
   "version": "3.9.13 (tags/v3.9.13:6de2ca5, May 17 2022, 16:36:42) [MSC v.1929 64 bit (AMD64)]"
  },
  "orig_nbformat": 4,
  "vscode": {
   "interpreter": {
    "hash": "c4b9ebf4ca459396e2ad1150752490c26670c1a037c08cad955a4425787bec2e"
   }
  }
 },
 "nbformat": 4,
 "nbformat_minor": 2
}
