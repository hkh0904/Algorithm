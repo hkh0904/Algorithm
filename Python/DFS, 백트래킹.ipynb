{
 "cells": [
  {
   "cell_type": "code",
   "execution_count": null,
   "metadata": {},
   "outputs": [],
   "source": [
    "# 1743 음식물 피하기\n",
    "import sys\n",
    "input = sys.stdin.readline\n",
    "sys.setrecursionlimit(10**4)    # recursion 런타임 에러때문에 recursion limit를 풀어줌\n",
    "\n",
    "def dfs(a, b):\n",
    "    global visit\n",
    "    visit[a][b] = 1     # 현재위치 방문체크\n",
    "    size = 1            # 음식물이 있으므로 size = 1\n",
    "    for r, c in delt:\n",
    "        # 4방향 델타탐색을 하며 복도 범위안이고, 음식물이 있으며 방문한적 없는 곳이 있다면\n",
    "        if 0 <= a+r < N and 0 <= b+c < M and corr[a+r][b+c] == '#' and visit[a+r][b+c] == 0:\n",
    "            visit[a+r][b+c] = 1     # 방문체크\n",
    "            size += dfs(a+r, b+c)   # 해당 위치에서 다시 DFS탐색하여 음식물 크기 산출\n",
    "    return size        # 최종 음식물 크기 리턴\n",
    "\n",
    "N, M, K = map(int, input().split())     # 복도크기, 음식물 위치 입력\n",
    "corr = [['.']*M for _ in range(N)]      # 복도 생성\n",
    "visit = [[0]*M for _ in range(N)]       # 방문한 곳인지 비교할 리스트\n",
    "\n",
    "delt = [(-1, 0), (1, 0), (0, -1), (0, 1)]   # 탐색을 위한 델타배열\n",
    "size_max = 0\n",
    "# 음식물 생성\n",
    "for i in range(K):      \n",
    "    y, x = map(int, input().split())\n",
    "    corr[y-1][x-1] = '#'\n",
    "# 복도를 순회\n",
    "for r in range(N):\n",
    "    for c in range(M):\n",
    "        # 현재 위치에 음식물이 있고 방문한 적이 없다면\n",
    "        if corr[r][c] == '#' and visit[r][c] == 0:\n",
    "            # dfs탐색을 통해 가장 큰 음식물 크기 구하기\n",
    "            size_max = max(size_max, dfs(r, c))\n",
    "\n",
    "print(size_max)"
   ]
  },
  {
   "cell_type": "code",
   "execution_count": null,
   "metadata": {},
   "outputs": [],
   "source": [
    "# 백준 2667 단지번호 붙이기\n",
    "n = int(input())\n",
    "graph = []\n",
    "num = []\n",
    "\n",
    "for i in range(n):\n",
    "    graph.append(list(map(int, input())))\n",
    "\n",
    "dx = [0, 0, 1, -1]\n",
    "dy = [1, -1, 0, 0]\n",
    "\n",
    "\n",
    "def DFS(x, y):\n",
    "    if x < 0 or x >= n or y < 0 or y >= n:\n",
    "        return False\n",
    "\n",
    "    if graph[x][y] == 1:\n",
    "        global count\n",
    "        count += 1\n",
    "        graph[x][y] = 0\n",
    "        for i in range(4):\n",
    "            nx = x + dx[i]\n",
    "            ny = y + dy[i]\n",
    "            DFS(nx, ny)\n",
    "        return True\n",
    "    return False\n",
    "\n",
    "\n",
    "count = 0\n",
    "result = 0\n",
    "\n",
    "for i in range(n):\n",
    "    for j in range(n):\n",
    "        if DFS(i, j) == True:\n",
    "            num.append(count)\n",
    "            result += 1\n",
    "            count = 0\n",
    "\n",
    "num.sort()\n",
    "print(result)\n",
    "for i in range(len(num)):\n",
    "    print(num[i])"
   ]
  },
  {
   "cell_type": "code",
   "execution_count": 2,
   "metadata": {},
   "outputs": [
    {
     "name": "stdout",
     "output_type": "stream",
     "text": [
      "1\n"
     ]
    }
   ],
   "source": [
    "a = (1,3)\n",
    "if type(a) == int:\n",
    "    print(0)\n",
    "else:\n",
    "    print(1)"
   ]
  }
 ],
 "metadata": {
  "kernelspec": {
   "display_name": "Python 3",
   "language": "python",
   "name": "python3"
  },
  "language_info": {
   "codemirror_mode": {
    "name": "ipython",
    "version": 3
   },
   "file_extension": ".py",
   "mimetype": "text/x-python",
   "name": "python",
   "nbconvert_exporter": "python",
   "pygments_lexer": "ipython3",
   "version": "3.9.13"
  },
  "orig_nbformat": 4,
  "vscode": {
   "interpreter": {
    "hash": "df95319d8ce4e1d89f5365ae10992bc1f65da593082b1d264e8f529830ec2f02"
   }
  }
 },
 "nbformat": 4,
 "nbformat_minor": 2
}
