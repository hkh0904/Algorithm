{
 "cells": [
  {
   "cell_type": "code",
   "execution_count": null,
   "metadata": {},
   "outputs": [],
   "source": [
    "# 백준 11725 트리의 부모찾기\n",
    "\n",
    "n = int(input())\n",
    "p = [0] * (n + 1)\n",
    "\n",
    "for _ in range(n-1):\n",
    "    root = list(map(int, input().split()))\n",
    "    root.sort()\n",
    "    p[root[1]] = root[0]\n",
    "\n",
    "print(p)\n",
    "for i in range(2, n+1):\n",
    "    print(p[i])\n",
    "        "
   ]
  },
  {
   "cell_type": "code",
   "execution_count": null,
   "metadata": {},
   "outputs": [],
   "source": [
    "# 백준 9934 완전이진트리\n",
    "\n",
    "def preorder(t):\n",
    "    if t:\n",
    "        print(t, end='')\n",
    "        preorder(cleft)\n",
    "        preorder(cright)\n",
    "\n",
    "\n",
    "alp = [0, 'A', 'B', 'C', 'D', 'E', 'F', 'G', 'H', 'I', 'J', 'K', 'L', 'M', 'N', 'O', 'P', 'Q', 'R', 'S', 'T', 'U', 'V', 'W', 'X', 'Y', 'Z']\n",
    "\n",
    "n = int(input())\n",
    "cleft = [0] * (n+1)\n",
    "cright = [0] * (n+1)\n",
    "\n",
    "for _ in range(n):\n",
    "    p, c1, c2 = input().split()\n",
    "    for i in range(27):\n",
    "        if p == alp[i]:\n",
    "            if c1 != '.':\n",
    "                cleft[i] = c1\n",
    "            if c2 != '.':\n",
    "                cright[i] = c2\n",
    "    \n",
    "preorder(1)\n",
    "    "
   ]
  }
 ],
 "metadata": {
  "kernelspec": {
   "display_name": "Python 3",
   "language": "python",
   "name": "python3"
  },
  "language_info": {
   "codemirror_mode": {
    "name": "ipython",
    "version": 3
   },
   "file_extension": ".py",
   "mimetype": "text/x-python",
   "name": "python",
   "nbconvert_exporter": "python",
   "pygments_lexer": "ipython3",
   "version": "3.9.13"
  },
  "orig_nbformat": 4,
  "vscode": {
   "interpreter": {
    "hash": "df95319d8ce4e1d89f5365ae10992bc1f65da593082b1d264e8f529830ec2f02"
   }
  }
 },
 "nbformat": 4,
 "nbformat_minor": 2
}
