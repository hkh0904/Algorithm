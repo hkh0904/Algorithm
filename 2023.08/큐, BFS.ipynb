{
 "cells": [
  {
   "cell_type": "code",
   "execution_count": null,
   "metadata": {},
   "outputs": [],
   "source": [
    "# 백준 18258 큐2\n",
    "\n",
    "from collections import deque\n",
    "\n",
    "N = int(input())\n",
    "q = deque()\n",
    "\n",
    "for i in range(N):\n",
    "    com, *num = input().split()\n",
    "    if com == 'push':\n",
    "        q.append(int(num[0]))\n",
    "    elif com == 'front':\n",
    "        if q:\n",
    "            print(q[0])\n",
    "        else:\n",
    "            print(-1)\n",
    "    elif com == 'pop':\n",
    "        if q:\n",
    "            print(q.popleft())\n",
    "        else:\n",
    "            print(-1)\n",
    "    elif com == 'size':\n",
    "        print(len(q))\n",
    "    elif com == 'empty':\n",
    "        if q:\n",
    "            print(0)\n",
    "        else:\n",
    "            print(1)\n",
    "    elif com == 'back':\n",
    "        if q:\n",
    "            print(q[-1])\n",
    "        else:\n",
    "            print(-1)"
   ]
  },
  {
   "cell_type": "code",
   "execution_count": 6,
   "metadata": {},
   "outputs": [
    {
     "name": "stdout",
     "output_type": "stream",
     "text": [
      "2\n"
     ]
    }
   ],
   "source": [
    "# 백준 2164 카드2\n",
    "from collections import deque\n",
    "\n",
    "N = int(input())\n",
    "card = deque()\n",
    "for i in range(1, N+1):\n",
    "    card.append(i)\n",
    "\n",
    "while len(card) != 1:\n",
    "    card.popleft()\n",
    "    card.append(card.popleft())\n",
    "print(card[0])"
   ]
  },
  {
   "cell_type": "code",
   "execution_count": 10,
   "metadata": {},
   "outputs": [
    {
     "name": "stdout",
     "output_type": "stream",
     "text": [
      "<4, 1, 6, 5, 7, 3, 2>\n"
     ]
    }
   ],
   "source": [
    "# 11866 요세푸스 문제 O\n",
    "\n",
    "N, K = map(int, input().split())\n",
    "cir = [i for i in range(1, N+1)]\n",
    "q = []\n",
    "slc = N + 1\n",
    "idx = 0\n",
    "while len(q) < N:\n",
    "    slc -= 1\n",
    "    idx = (idx+K-1)%slc\n",
    "    q.append(cir.pop(idx))\n",
    "    \n",
    "print(f'<{\", \".join(map(str, q))}>')"
   ]
  },
  {
   "cell_type": "code",
   "execution_count": 14,
   "metadata": {},
   "outputs": [
    {
     "ename": "KeyboardInterrupt",
     "evalue": "",
     "output_type": "error",
     "traceback": [
      "\u001b[1;31m---------------------------------------------------------------------------\u001b[0m",
      "\u001b[1;31mKeyboardInterrupt\u001b[0m                         Traceback (most recent call last)",
      "Cell \u001b[1;32mIn[14], line 27\u001b[0m\n\u001b[0;32m     25\u001b[0m             cnt \u001b[39m+\u001b[39m\u001b[39m=\u001b[39m \u001b[39m1\u001b[39m\n\u001b[0;32m     26\u001b[0m     \u001b[39melse\u001b[39;00m:\n\u001b[1;32m---> 27\u001b[0m         q\u001b[39m.\u001b[39;49mappend(q\u001b[39m.\u001b[39;49mpopleft)\n\u001b[0;32m     29\u001b[0m \u001b[39mprint\u001b[39m(cnt)   \n",
      "\u001b[1;31mKeyboardInterrupt\u001b[0m: "
     ]
    }
   ],
   "source": [
    "# 1966 프린터 큐\n",
    "\n",
    "from collections import deque\n",
    "\n",
    "T = int(input())\n",
    "\n",
    "for tc in range(T):\n",
    "    N, M = map(int, input().split())\n",
    "    page = list(map(int, input().split()))\n",
    "    \n",
    "    q = deque()\n",
    "    for i in range(len(page)):\n",
    "        q.append((page[i], i))\n",
    "    page = sorted(page, reverse=True)\n",
    "    \n",
    "    cnt = 0\n",
    "    while True:\n",
    "        if q[0][0] == page[0]:\n",
    "            if q[0][1] == M:\n",
    "                cnt += 1\n",
    "                break\n",
    "            else:\n",
    "                q.popleft()\n",
    "                page.pop(0)\n",
    "                cnt += 1\n",
    "        else:\n",
    "            q.append(q.popleft)\n",
    "\n",
    "    print(cnt)   "
   ]
  },
  {
   "cell_type": "code",
   "execution_count": null,
   "metadata": {},
   "outputs": [],
   "source": [
    "# 백준 14502 연구소\n",
    "from itertools import combinations\n",
    "from collections import deque\n",
    "from copy import deepcopy\n",
    "# 바이러스가 있는곳 4방향 탐색\n",
    "dr = [-1, 1, 0, 0]\n",
    "dc = [0, 0, -1, 1]\n",
    "# 유효한 범위인지 검사\n",
    "def is_valid(r, c):\n",
    "    return 0 <= r < n and 0 <= c < m\n",
    "\n",
    "def BFS():\n",
    "    safe_max = 0    # 안전구역이 가장 많을 때 안전구역의 수\n",
    "    # 바이러스 없는 구역 3곳을 뽑는 경우의 수만큼 반복\n",
    "    for i in safe:\n",
    "        for j in i:             # 바이러스 없는 구역 3곳에 벽 설치\n",
    "            v_lab[j[0]][j[1]] = 1\n",
    "        v_q = deepcopy(q)       # 반복마다 큐, 실험실 초기상태로 갱신\n",
    "        v_lab = deepcopy(lab)\n",
    "        \n",
    "        while v_q:      # 큐가 비어있을 때까지 반복\n",
    "            r, c = v_q.popleft()    # 바이러스가 있는 구역 pop\n",
    "            for d in range(4):\n",
    "                nr = r + dr[d]\n",
    "                nc = c + dc[d]\n",
    "                # 네방향 탐색해서 벽이 아니고 바이러스가 없을경우 바이러스 감염\n",
    "                if is_valid(nr, nc) and v_lab[nr][nc] == 0:\n",
    "                    v_lab[nr][nc] = 2\n",
    "                    v_q.append((nr, nc))    # 감염시킨 구역을 큐에 추가\n",
    "        \n",
    "        # 감염이 끝난 실험실에서 안전구역을 세어 최댓값 갱신          \n",
    "        safezone = 0\n",
    "        for i in v_lab:\n",
    "            safezone += i.count(0)\n",
    "        if safe_max < safezone:\n",
    "            safe_max = safezone\n",
    "    return safe_max\n",
    "\n",
    "n, m = map(int, input().split())\n",
    "lab = [list(map(int, input().split())) for _ in range(n)]   # 연구소 지도 입력\n",
    "safe = []\n",
    "\n",
    "for i in range(n):\n",
    "    for j in range(m):\n",
    "        if lab[i][j] == 0:\n",
    "            safe.append((i, j))\n",
    "# 바이러스가 없는 구역 3개를 뽑아 벽을 세우는 모든 경우의 수\n",
    "safe = list(combinations(safe, 3))      # 조합 이용\n",
    "\n",
    "q = deque()\n",
    "# 바이러스가 있는 지역 모두 큐에 추가\n",
    "for i in range(n):\n",
    "    for j in range(m):\n",
    "        if lab[i][j] == 2:\n",
    "            q.append((i, j))\n",
    "\n",
    "print(BFS())"
   ]
  },
  {
   "cell_type": "code",
   "execution_count": null,
   "metadata": {},
   "outputs": [],
   "source": [
    "import sys\n",
    "from collections import deque\n",
    "input = sys.stdin.readline\n",
    "\n",
    "dr = [-1, 1, 0, 0]\n",
    "dc = [0, 0, -1, 1]\n",
    "\n",
    "def bfs(i, j):\n",
    "    global fail\n",
    "    dq = deque()        # 너비우선탐색을 위한 큐\n",
    "    dq.append((i, j))   # 현재위치 추가\n",
    "    country = [(i, j)]        # 국경 개방가능한 이웃 나라들을 추가\n",
    "    visited[i][j] = 1         # 현재 위치 방문체크\n",
    "    rlt_sum = area[i][j]      # 개방한 나라들의 총 인구\n",
    "\n",
    "    while dq:\n",
    "        x, y = dq.popleft()     # 큐에서 제일 앞 원소 꺼냄\n",
    "        for d in range(4):\n",
    "            nr, nc = x + dr[d], y + dc[d]\n",
    "            # 4방향 탐색한 위치가 유효범위이고 방문한 적이 없다면\n",
    "            if 0 <= nr < n and 0 <= nc < n and not visited[nr][nc]:\n",
    "                # 또한 그 나라와 현재 나라의 인구수 차이가 l 이상 r 이하라면\n",
    "                if l <= abs(area[nr][nc] - area[x][y]) <= r:\n",
    "                    dq.append((nr, nc))         # 큐에 추가\n",
    "                    country.append((nr, nc))    # 국경 개방한 나라 리스트에 추가\n",
    "                    rlt_sum += area[nr][nc]     # 총 인구수에 개방한 나라 인구 더해줌\n",
    "                    visited[nr][nc] = 1         # 방문처리\n",
    "    # 현재 위치 주변에 국경 개방한 나라가 있다면\n",
    "    if len(country) > 1:\n",
    "        fail = 1    # 탐색 성공\n",
    "    # 개방한 나라들의 인구를 분배\n",
    "    for x, y in country:\n",
    "        area[x][y] = rlt_sum // len(country)\n",
    "\n",
    "# 땅의 넓이 n, 유효 범위 l, r 입력\n",
    "n, l, r = map(int, input().split())\n",
    "area = [list(map(int, input().split())) for _ in range(n)]\n",
    "ans = 0\n",
    "\n",
    "while True:\n",
    "    fail = 0    # 0이면 실패, 1이면 성공으로 설정\n",
    "    visited = [[0] * n for _ in range(n)]   # 방문탐색을 위한 배열 (반복마다 초기화)\n",
    "    # 나라들을 한칸씩 순회하며 너비우선 탐색\n",
    "    # 다른칸에서 너비우선 탐색할때 방문했다면 탐색X\n",
    "    for i in range(n):\n",
    "        for j in range(n):\n",
    "            if not visited[i][j]:\n",
    "                bfs(i, j)   # 너비우선탐색\n",
    "    # 탐색에 실패했다면 반복종료\n",
    "    if fail == 0:\n",
    "        break\n",
    "    # 탐색 성공했다면 결과에 +1\n",
    "    # 인구 이동이 끝난 상태로 다시 반복시작\n",
    "    ans += 1\n",
    "\n",
    "print(ans)"
   ]
  },
  {
   "cell_type": "code",
   "execution_count": 1,
   "metadata": {},
   "outputs": [
    {
     "ename": "ValueError",
     "evalue": "invalid literal for int() with base 10: ''",
     "output_type": "error",
     "traceback": [
      "\u001b[1;31m---------------------------------------------------------------------------\u001b[0m",
      "\u001b[1;31mValueError\u001b[0m                                Traceback (most recent call last)",
      "Cell \u001b[1;32mIn[1], line 5\u001b[0m\n\u001b[0;32m      2\u001b[0m \u001b[39mimport\u001b[39;00m \u001b[39mheapq\u001b[39;00m\n\u001b[0;32m      4\u001b[0m lst \u001b[39m=\u001b[39m []\n\u001b[1;32m----> 5\u001b[0m n \u001b[39m=\u001b[39m \u001b[39mint\u001b[39;49m(\u001b[39minput\u001b[39;49m())\n\u001b[0;32m      6\u001b[0m \u001b[39mfor\u001b[39;00m i \u001b[39min\u001b[39;00m \u001b[39mrange\u001b[39m(n):\n\u001b[0;32m      7\u001b[0m     num \u001b[39m=\u001b[39m \u001b[39mint\u001b[39m(\u001b[39minput\u001b[39m())\n",
      "\u001b[1;31mValueError\u001b[0m: invalid literal for int() with base 10: ''"
     ]
    }
   ],
   "source": [
    "# 백준 1927 최소힙\n",
    "import heapq\n",
    "\n",
    "lst = []\n",
    "n = int(input())\n",
    "for i in range(n):\n",
    "    num = int(input())\n",
    "    if num == 0:\n",
    "        if lst:\n",
    "            print(heapq.heappop(lst))\n",
    "        else:\n",
    "            print(0)\n",
    "    else:\n",
    "        heapq.heappush(lst, num)\n",
    "        # 최대힙\n",
    "        # heapq.heappush(lst, (-num, num))\n",
    "        # print(heapq.heappop(lst)[1])"
   ]
  }
 ],
 "metadata": {
  "kernelspec": {
   "display_name": "Python 3",
   "language": "python",
   "name": "python3"
  },
  "language_info": {
   "codemirror_mode": {
    "name": "ipython",
    "version": 3
   },
   "file_extension": ".py",
   "mimetype": "text/x-python",
   "name": "python",
   "nbconvert_exporter": "python",
   "pygments_lexer": "ipython3",
   "version": "3.9.13"
  },
  "orig_nbformat": 4,
  "vscode": {
   "interpreter": {
    "hash": "df95319d8ce4e1d89f5365ae10992bc1f65da593082b1d264e8f529830ec2f02"
   }
  }
 },
 "nbformat": 4,
 "nbformat_minor": 2
}
