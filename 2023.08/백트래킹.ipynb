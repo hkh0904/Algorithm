{
 "cells": [
  {
   "cell_type": "code",
   "execution_count": null,
   "metadata": {},
   "outputs": [],
   "source": [
    "# 15649 N과 M(1)\n",
    "from itertools import *\n",
    "\n",
    "N, M = map(int, input().split())\n",
    "\n",
    "num = [i for i in range(1, N + 1)]\n",
    "# permutitions(list, n) (순열)\n",
    "rlt = list(permutations(num, M))\n",
    "\n",
    "for i in rlt:\n",
    "    print(' '.join(map(str, i)))"
   ]
  },
  {
   "cell_type": "code",
   "execution_count": null,
   "metadata": {},
   "outputs": [],
   "source": [
    "# 15650 N과 M(2)\n",
    "from itertools import *\n",
    "\n",
    "N, M = map(int, input().split())\n",
    "\n",
    "num = [i for i in range(1, N + 1)]\n",
    "# combinations(list, n) (조합)\n",
    "rlt = list(combinations(num, M))\n",
    "\n",
    "for i in rlt:\n",
    "    print(' '.join(map(str, i)))"
   ]
  },
  {
   "cell_type": "code",
   "execution_count": null,
   "metadata": {},
   "outputs": [],
   "source": [
    "# 15651 N과 M(3)\n",
    "from itertools import *\n",
    "\n",
    "N, M = map(int, input().split())\n",
    "\n",
    "num = [i for i in range(1, N + 1)]\n",
    "# product(list, repeat = n) (중복 허용 순열)\n",
    "rlt = list(product(num, repeat = M))\n",
    "\n",
    "for i in rlt:\n",
    "    print(' '.join(map(str, i)))"
   ]
  },
  {
   "cell_type": "code",
   "execution_count": null,
   "metadata": {},
   "outputs": [],
   "source": [
    "# 15652 N과 M(4)\n",
    "from itertools import *\n",
    "\n",
    "N, M = map(int, input().split())\n",
    "\n",
    "num = [i for i in range(1, N + 1)]\n",
    "# combiantions_with_replacement(list, n) (중복 허용 조합)\n",
    "rlt = list(combinations_with_replacement(num, M))\n",
    "\n",
    "for i in rlt:\n",
    "    print(' '.join(map(str, i)))"
   ]
  },
  {
   "cell_type": "code",
   "execution_count": null,
   "metadata": {},
   "outputs": [],
   "source": [
    "# 14888 연산자 끼워넣기\n",
    "N = int(input())\n",
    "for"
   ]
  }
 ],
 "metadata": {
  "kernelspec": {
   "display_name": "Python 3",
   "language": "python",
   "name": "python3"
  },
  "language_info": {
   "codemirror_mode": {
    "name": "ipython",
    "version": 3
   },
   "file_extension": ".py",
   "mimetype": "text/x-python",
   "name": "python",
   "nbconvert_exporter": "python",
   "pygments_lexer": "ipython3",
   "version": "3.9.12"
  },
  "orig_nbformat": 4,
  "vscode": {
   "interpreter": {
    "hash": "c4b9ebf4ca459396e2ad1150752490c26670c1a037c08cad955a4425787bec2e"
   }
  }
 },
 "nbformat": 4,
 "nbformat_minor": 2
}
