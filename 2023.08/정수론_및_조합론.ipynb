{
 "cells": [
  {
   "cell_type": "code",
   "execution_count": null,
   "metadata": {},
   "outputs": [],
   "source": [
    "# 1004 어린왕자\n",
    "T = int(input())\n",
    "for t_c in range(T):\n",
    "    x1, y1, x2, y2 = map(int, input().split())\n",
    "    cnt = 0\n",
    "    \n",
    "    planet = int(input())\n",
    "    for p in range(planet):\n",
    "        cx, cy, r = map(int, input().split())\n",
    "        #출발점, 도착점과 행성사이의 거리\n",
    "        start = ((x1-cx)**2 + (y1-cy)**2)**0.5\n",
    "        end = ((x2-cx)**2 + (y2-cy)**2)**0.5\n",
    "        #출발점이나 도착점 중 하나가 행성안에있다면 +1\n",
    "        #둘다 행성안에 있다면 행성계를 이탈할 필요가 없음\n",
    "        if (start < r and end > r) or (start > r and end < r):\n",
    "            cnt += 1\n",
    "    print(cnt)"
   ]
  },
  {
   "cell_type": "code",
   "execution_count": 13,
   "metadata": {},
   "outputs": [
    {
     "data": {
      "text/plain": [
       "[2, 5, 7, 24, 46, 52, 85, 637]"
      ]
     },
     "execution_count": 13,
     "metadata": {},
     "output_type": "execute_result"
    }
   ],
   "source": [
    "# 버블정렬\n",
    "def BubbleSort(a):\n",
    "    N = len(a)\n",
    "    for i in range(N-1, 0, -1):\n",
    "        for j in range(0,i):\n",
    "            if a[j] > a[j+1]:\n",
    "                a[j], a[j+1] = a[j+1], a[j]\n",
    "    return a\n",
    "                \n",
    "BubbleSort([24,5,637,52,46,7,85,2])"
   ]
  },
  {
   "cell_type": "code",
   "execution_count": 1,
   "metadata": {},
   "outputs": [
    {
     "name": "stdout",
     "output_type": "stream",
     "text": [
      "factor\n",
      "multiple\n",
      "neither\n"
     ]
    }
   ],
   "source": [
    "# 5086 배수와 약수\n",
    "while True:\n",
    "    a, b = map(int, input().split())\n",
    "    if a==0 and b==0:\n",
    "        break\n",
    "    \n",
    "    # a가 b의 약수라면 b%a = 0\n",
    "    if b % a == 0:\n",
    "        print('factor')\n",
    "    # a가 b의 배수라면 a%b = 0\n",
    "    elif a % b == 0:\n",
    "        print('multiple')\n",
    "    # 둘다 아닐경우\n",
    "    else:\n",
    "        print('neither')"
   ]
  },
  {
   "cell_type": "code",
   "execution_count": 5,
   "metadata": {},
   "outputs": [
    {
     "name": "stdout",
     "output_type": "stream",
     "text": [
      "1296344\n"
     ]
    }
   ],
   "source": [
    "# 1037 약수\n",
    "\n",
    "N = int(input())\n",
    "small_n = list(map(int, input().split()))\n",
    "small_n.sort\n",
    "if len(small_n) == 1 and small_n[0]%2 ==1:\n",
    "    print(small_n[0])\n",
    "else:\n",
    "    print(small_n[0]*small_n[-1])"
   ]
  },
  {
   "cell_type": "code",
   "execution_count": null,
   "metadata": {},
   "outputs": [],
   "source": [
    "# 2609 최대공약수와 최소공배수\n",
    "# 유클리드 공식\n",
    "\n",
    "etc_list = [0] * 1000\n",
    "\n",
    "num1, num2 = map(int,input().split())\n",
    "if num1 > num2:\n",
    "    etc_list[0], etc_list[1] = num1, num2\n",
    "else:\n",
    "    etc_list[0], etc_list[1] = num2, num1   \n",
    "for i in range(len(etc_list)-1):\n",
    "    if etc_list[i] % etc_list[i+1] == 0:\n",
    "        di_same = etc_list[i+1]\n",
    "        break\n",
    "    else:\n",
    "        etc_list[i+2] = etc_list[i]%etc_list[i+1]\n",
    "mul_same = round(num1 * num2 / di_same)\n",
    "    \n",
    "print(di_same)\n",
    "print(mul_same)"
   ]
  },
  {
   "cell_type": "code",
   "execution_count": null,
   "metadata": {},
   "outputs": [],
   "source": [
    "# 인터넷 풀이\n",
    "def lcm(a, b): \n",
    "    return round((a * b) / gcd(a, b))\n",
    "\n",
    "def gcd(a, b):\n",
    "    while b != 0:\n",
    "        r = a % b\n",
    "        a = b\n",
    "        b = r\n",
    "    return a\n",
    "\n",
    "num1, num2 = map(int,input().split())\n",
    "print(gcd(num1, num2))\n",
    "print(lcm(num1, num2))"
   ]
  },
  {
   "cell_type": "code",
   "execution_count": 14,
   "metadata": {},
   "outputs": [
    {
     "name": "stdout",
     "output_type": "stream",
     "text": [
      "2 2 3 3 3 3 4 "
     ]
    }
   ],
   "source": [
    "# 2981 검문\n",
    "N = int(input())\n",
    "num_li = [0]*N\n",
    "for i in range(N):\n",
    "    num_li[i] = int(input())\n",
    "    \n",
    "ans = []\n",
    "for j in range(2, min(num_li)):\n",
    "    for n in range(N-1):\n",
    "        if num_li[n]%j != num_li[n+1]%j:\n",
    "            continue\n",
    "        ans.append(j)\n",
    "\n",
    "for i in ans:\n",
    "    print(i, end=' ')"
   ]
  },
  {
   "cell_type": "code",
   "execution_count": 16,
   "metadata": {},
   "outputs": [
    {
     "name": "stdout",
     "output_type": "stream",
     "text": [
      "2\n",
      "3\n",
      "4\n"
     ]
    }
   ],
   "source": [
    "n = int(input())\n",
    "a = []\n",
    "for i in range(n):\n",
    "  a.append(int(input()))\n",
    "b  = []\n",
    "p = min(a)\n",
    "for i in range(p,1,-1):\n",
    "  for j in range(n-1):\n",
    "    if(a[j]%i) !=(a[j+1]%i):\n",
    "      continue\n",
    "    b.append(i)\n",
    "\n",
    "for i in list(set(b)):\n",
    "  print(i)"
   ]
  },
  {
   "cell_type": "code",
   "execution_count": null,
   "metadata": {},
   "outputs": [],
   "source": [
    "# 3036 링\n",
    "\n",
    "# 서로 다른 두 링이 도는 횟수는 반지름의 길이에 반비례\n",
    "# r = 8 1회 == r = 4 2회\n",
    "# 최대공약수를 구하는 함수\n",
    "def gcd(a, b):\n",
    "    while b != 0:\n",
    "        r = a%b\n",
    "        a = b\n",
    "        b = r\n",
    "    return a\n",
    "\n",
    "N = int(input())\n",
    "ring = list(map(int, input().split()))\n",
    "\n",
    "for i in range(1, N):\n",
    "    # 첫번째 링과 비교하여 몇바퀴 도는지 확인\n",
    "    # 첫링과 비교할 링의 최대공약수 구함\n",
    "    div = gcd(ring[0], ring[i])\n",
    "    print(f'{ring[0]//div}/{ring[i]//div}')"
   ]
  },
  {
   "cell_type": "code",
   "execution_count": 5,
   "metadata": {},
   "outputs": [
    {
     "name": "stdout",
     "output_type": "stream",
     "text": [
      "45\n"
     ]
    }
   ],
   "source": [
    "# 이항계수1\n",
    "def factorial(a):\n",
    "    if a > 1:\n",
    "        return a * factorial(a-1)\n",
    "    else:\n",
    "        return 1\n",
    "    \n",
    "n, k = map(int,input().split())\n",
    "print(factorial(n)//(factorial(k)*factorial(n-k))%10007)"
   ]
  },
  {
   "cell_type": "code",
   "execution_count": 7,
   "metadata": {},
   "outputs": [
    {
     "ename": "TypeError",
     "evalue": "'int' object is not iterable",
     "output_type": "error",
     "traceback": [
      "\u001b[1;31m---------------------------------------------------------------------------\u001b[0m",
      "\u001b[1;31mTypeError\u001b[0m                                 Traceback (most recent call last)",
      "Cell \u001b[1;32mIn[7], line 9\u001b[0m\n\u001b[0;32m      6\u001b[0m N_list \u001b[39m=\u001b[39m [\u001b[39m1\u001b[39m\u001b[39m*\u001b[39mi \u001b[39mfor\u001b[39;00m i \u001b[39min\u001b[39;00m \u001b[39mrange\u001b[39m(\u001b[39m1\u001b[39m,N)]\n\u001b[0;32m      7\u001b[0m M_list \u001b[39m=\u001b[39m [\u001b[39m1\u001b[39m\u001b[39m*\u001b[39mi \u001b[39mfor\u001b[39;00m i \u001b[39min\u001b[39;00m \u001b[39mrange\u001b[39m(\u001b[39m1\u001b[39m,M)]\n\u001b[1;32m----> 9\u001b[0m rlt \u001b[39m=\u001b[39m \u001b[39mlist\u001b[39m(itertools\u001b[39m.\u001b[39;49mcombinations_with_replacement(N,M))\n\u001b[0;32m     10\u001b[0m \u001b[39mprint\u001b[39m(rlt)\n",
      "\u001b[1;31mTypeError\u001b[0m: 'int' object is not iterable"
     ]
    }
   ],
   "source": [
    "import itertools\n",
    "\n",
    "T = int(input())\n",
    "for tc in range(T):\n",
    "    N, M = map(int, input().split())\n",
    "    NM_list = [[1*i for i in range(1,N)],[1*i for i in range(1,M)]]\n",
    "       \n",
    "    rlt = list(itertools.product(*list()))\n",
    "    print(rlt)"
   ]
  },
  {
   "cell_type": "code",
   "execution_count": null,
   "metadata": {},
   "outputs": [],
   "source": [
    "import math\n",
    "T = int(input())\n",
    "fa = math.factorial(T)\n",
    "cnt = 0\n",
    "print(fa)\n",
    "for i in range(len(str(fa))-1, -1 ,-1):\n",
    "    if str(fa)[i] == '0':\n",
    "        cnt += 1\n",
    "    else:\n",
    "        break\n",
    "print(cnt)"
   ]
  },
  {
   "cell_type": "code",
   "execution_count": 6,
   "metadata": {},
   "outputs": [
    {
     "name": "stdout",
     "output_type": "stream",
     "text": [
      "1\n",
      "5\n",
      "67863915\n"
     ]
    }
   ],
   "source": [
    "import math\n",
    "def zohap(a, b):\n",
    "    return int(math.factorial(a) / (math.factorial(a-b) * math.factorial(b)))\n",
    "\n",
    "T = int(input())\n",
    "for tc in range(T):\n",
    "    num1, num2 = map(int, input().split())\n",
    "    rlt = zohap(num2, num1)\n",
    "    print(rlt)"
   ]
  },
  {
   "cell_type": "code",
   "execution_count": null,
   "metadata": {},
   "outputs": [],
   "source": [
    "def fact_2or5(a,b):\n",
    "    cnt = 0\n",
    "    while a > 0:\n",
    "        cnt += a//b\n",
    "        a //= b\n",
    "    return cnt\n",
    "\n",
    "n1, n2 = map(int, input().split())\n",
    "\n",
    "ab2 = fact_2or5(n1,2) - fact_2or5(n2,2) - fact_2or5((n1-n2),2)\n",
    "ab5 = fact_2or5(n1,5) - fact_2or5(n2,5) - fact_2or5((n1-n2),5)\n",
    "print(min(ab2, ab5))"
   ]
  }
 ],
 "metadata": {
  "kernelspec": {
   "display_name": "Python 3",
   "language": "python",
   "name": "python3"
  },
  "language_info": {
   "codemirror_mode": {
    "name": "ipython",
    "version": 3
   },
   "file_extension": ".py",
   "mimetype": "text/x-python",
   "name": "python",
   "nbconvert_exporter": "python",
   "pygments_lexer": "ipython3",
   "version": "3.9.13 (tags/v3.9.13:6de2ca5, May 17 2022, 16:36:42) [MSC v.1929 64 bit (AMD64)]"
  },
  "orig_nbformat": 4,
  "vscode": {
   "interpreter": {
    "hash": "c4b9ebf4ca459396e2ad1150752490c26670c1a037c08cad955a4425787bec2e"
   }
  }
 },
 "nbformat": 4,
 "nbformat_minor": 2
}
