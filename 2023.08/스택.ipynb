{
 "cells": [
  {
   "cell_type": "code",
   "execution_count": 2,
   "metadata": {},
   "outputs": [
    {
     "name": "stdout",
     "output_type": "stream",
     "text": [
      "15\n"
     ]
    }
   ],
   "source": [
    "N = int(input())\n",
    "stack = [0] * N\n",
    "idx = 0\n",
    "for i in range(N):\n",
    "    num = int(input())\n",
    "    if num != 0:\n",
    "        stack[idx] = num\n",
    "        idx += 1\n",
    "    else:\n",
    "        stack[idx-1] = 0\n",
    "        idx -= 1\n",
    "print(sum(stack))"
   ]
  },
  {
   "cell_type": "code",
   "execution_count": 5,
   "metadata": {},
   "outputs": [
    {
     "name": "stdout",
     "output_type": "stream",
     "text": [
      "Yes\n",
      "No\n",
      "Yes\n",
      "No\n"
     ]
    }
   ],
   "source": [
    "N = int(input())\n",
    "for _ in range(N):\n",
    "    inp = input()\n",
    "    stack = [0] * len(inp)\n",
    "    top = -1\n",
    "    ans = 'YES'\n",
    "    \n",
    "    for i in range(len(inp)):\n",
    "        if inp[i] == '(':\n",
    "            stack[top+1] = inp[i]\n",
    "            top += 1\n",
    "        elif inp[i] == ')':\n",
    "            if top == -1:\n",
    "                ans = 'NO'\n",
    "                break\n",
    "            if stack[top] == '(':\n",
    "                stack[top] = 0\n",
    "                top -= 1\n",
    "    if stack[0] != 0:\n",
    "        ans = 'NO'\n",
    "        \n",
    "    print(ans)"
   ]
  },
  {
   "cell_type": "code",
   "execution_count": 8,
   "metadata": {},
   "outputs": [
    {
     "name": "stdout",
     "output_type": "stream",
     "text": [
      "yes\n",
      "no\n",
      "yes\n"
     ]
    }
   ],
   "source": [
    "# 백준 4949 균형잡힌세상\n",
    "while True:\n",
    "    inp = input()\n",
    "    # 온점 하나만 입력받을시 반복종료\n",
    "    if inp == '.':\n",
    "        break\n",
    "    # append 사용 줄이기위해 스택 리스트 제작\n",
    "    stack = [0] * len(inp)\n",
    "    top = -1        # 스택이 비었으므로 현재 top = -1\n",
    "    ans = 'yes'     # 결과를 'yes'로 설정\n",
    "    # 문자열의 길이만큼 반복\n",
    "    for i in range(len(inp)):\n",
    "        # 여는 소괄호, 여는 대괄호가 나올시 스택에 추가\n",
    "        if inp[i] == '(' or inp[i] == '[':\n",
    "            stack[top+1] = inp[i]\n",
    "            top += 1    # 스택의 top +1\n",
    "        #닫는 소괄호일 때\n",
    "        elif inp[i] == ')':\n",
    "            #top이 0보다 크거나 같고 스택의 top값이 여는 소괄호일때\n",
    "            if top >= 0 and stack[top] == '(':\n",
    "                stack[top] = 0  #스택의 top값 제거\n",
    "                top -= 1        #top위치 -1\n",
    "            else:   #조건에 맞지않다면 답을 'no'로 갱신\n",
    "                ans = 'no'\n",
    "                break   # 반복종료\n",
    "        #닫는 대괄호일때\n",
    "        elif inp[i] == ']':\n",
    "            #top이 0보다 크거나 같고 스택의 top값이 여는 대괄호일때\n",
    "            if top >= 0 and stack[top] == '[':\n",
    "                stack[top] = 0  #스택의 top값 제거\n",
    "                top -= 1        #top위치 -1\n",
    "            else:   #조건에 맞지않다면 답을 'no'로 갱신\n",
    "                ans = 'no'\n",
    "                break   # 반복종료\n",
    "    #스택에 괄호가 남아있다면 no        \n",
    "    if stack[0] != 0:\n",
    "        ans = 'no'\n",
    "    print(ans)"
   ]
  },
  {
   "cell_type": "code",
   "execution_count": 7,
   "metadata": {},
   "outputs": [
    {
     "name": "stdout",
     "output_type": "stream",
     "text": [
      "[1, 2, 4, 5, 6, 3, 8, 9, 7, 10]\n",
      "0 0 0 0 0 5 5 5 8 8\n"
     ]
    }
   ],
   "source": [
    "N = int(input())\n",
    "top = list(map(int, input().split()))\n",
    "stack = [(top[0], 0)]\n",
    "rlt = [0] * len(top)\n",
    "idx = 0\n",
    "print(top)\n",
    "# 수신 <- 발신 방향\n",
    "# 1번째 탑은 수신받을 탑이없음(무조건 0)\n",
    "for i in range(1, N):\n",
    "    if top[i] > stack[idx][0]:\n",
    "        stack.pop()\n",
    "        stack.append((top[i], i))\n",
    "        if idx == 0:\n",
    "            rlt[i] = 0\n",
    "        else:\n",
    "            rlt[i] = stack[idx-1][1] + 1\n",
    "    else:\n",
    "        stack.append((top[i], i))\n",
    "        idx += 1\n",
    "        rlt[i] = stack[idx-1][1] + 1\n",
    "        \n",
    "print(' '.join(map(str, rlt)))"
   ]
  },
  {
   "cell_type": "code",
   "execution_count": null,
   "metadata": {},
   "outputs": [],
   "source": []
  }
 ],
 "metadata": {
  "kernelspec": {
   "display_name": "Python 3",
   "language": "python",
   "name": "python3"
  },
  "language_info": {
   "codemirror_mode": {
    "name": "ipython",
    "version": 3
   },
   "file_extension": ".py",
   "mimetype": "text/x-python",
   "name": "python",
   "nbconvert_exporter": "python",
   "pygments_lexer": "ipython3",
   "version": "3.9.13"
  },
  "orig_nbformat": 4,
  "vscode": {
   "interpreter": {
    "hash": "c4b9ebf4ca459396e2ad1150752490c26670c1a037c08cad955a4425787bec2e"
   }
  }
 },
 "nbformat": 4,
 "nbformat_minor": 2
}
