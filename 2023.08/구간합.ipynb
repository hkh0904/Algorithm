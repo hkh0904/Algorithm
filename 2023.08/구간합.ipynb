{
 "cells": [
  {
   "cell_type": "code",
   "execution_count": 11,
   "metadata": {},
   "outputs": [
    {
     "name": "stdout",
     "output_type": "stream",
     "text": [
      "[0, 5, 9, 12, 14, 15]\n",
      "12\n",
      "9\n",
      "1\n"
     ]
    }
   ],
   "source": [
    "import sys\n",
    "input = sys.stdin.readline\n",
    "\n",
    "N, M = map(int, input().split())\n",
    "nums = list(map(int, input().split()))\n",
    "arr = [0] * (N+1)   #지금까지 나온 수의 합을 순차적으로 저장할 리스트\n",
    "tot = 0             #지금까지 나온 수의 합\n",
    "for i in range(N):\n",
    "    tot += nums[i]  #등장한 수를 더해줌\n",
    "    arr[i+1] = tot  #더한수를 리스트에 저장\n",
    "for tc in range(M):\n",
    "    a, b = map(int, input().split())\n",
    "    #[0, 5, 9, 12, 14, 15] a,b = 1,3 일때 12 - 0\n",
    "    print(arr[b] - arr[a-1])   "
   ]
  },
  {
   "cell_type": "code",
   "execution_count": 5,
   "metadata": {},
   "outputs": [
    {
     "name": "stdout",
     "output_type": "stream",
     "text": [
      "3628800\n",
      "2\n"
     ]
    }
   ],
   "source": []
  }
 ],
 "metadata": {
  "kernelspec": {
   "display_name": "Python 3",
   "language": "python",
   "name": "python3"
  },
  "language_info": {
   "codemirror_mode": {
    "name": "ipython",
    "version": 3
   },
   "file_extension": ".py",
   "mimetype": "text/x-python",
   "name": "python",
   "nbconvert_exporter": "python",
   "pygments_lexer": "ipython3",
   "version": "3.9.13"
  },
  "orig_nbformat": 4,
  "vscode": {
   "interpreter": {
    "hash": "c4b9ebf4ca459396e2ad1150752490c26670c1a037c08cad955a4425787bec2e"
   }
  }
 },
 "nbformat": 4,
 "nbformat_minor": 2
}
